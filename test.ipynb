{
 "cells": [
  {
   "cell_type": "code",
   "execution_count": 15,
   "metadata": {},
   "outputs": [],
   "source": [
    "import pandas as pd\n",
    "file = 'tables\\\\学生评语.xlsx'\n",
    "\n",
    "df = pd.read_excel(file)"
   ]
  },
  {
   "cell_type": "code",
   "execution_count": 21,
   "metadata": {},
   "outputs": [
    {
     "data": {
      "text/plain": [
       "'岳仲琦'"
      ]
     },
     "execution_count": 21,
     "metadata": {},
     "output_type": "execute_result"
    }
   ],
   "source": [
    "# df[0][\"岳仲琦\"]\n",
    "# df.index = df['学生姓名']\n",
    "df.loc[0]['学生姓名']"
   ]
  }
 ],
 "metadata": {
  "kernelspec": {
   "display_name": "tianpy",
   "language": "python",
   "name": "python3"
  },
  "language_info": {
   "codemirror_mode": {
    "name": "ipython",
    "version": 3
   },
   "file_extension": ".py",
   "mimetype": "text/x-python",
   "name": "python",
   "nbconvert_exporter": "python",
   "pygments_lexer": "ipython3",
   "version": "3.9.15"
  },
  "orig_nbformat": 4,
  "vscode": {
   "interpreter": {
    "hash": "f39e18f3efc1dc78975eaff4987b0855ff112d5426cb6ed421a255da7933488e"
   }
  }
 },
 "nbformat": 4,
 "nbformat_minor": 2
}
