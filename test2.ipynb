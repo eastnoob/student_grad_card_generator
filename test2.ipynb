{
 "cells": [
  {
   "cell_type": "code",
   "execution_count": null,
   "metadata": {},
   "outputs": [],
   "source": [
    "def adjust_table(html_table):\n",
    "    #Split the table into multiple tables\n",
    "    tables = []\n",
    "    columns = html_table.count('<td>')\n",
    "    n = columns // 6\n",
    "    for i in range(n):\n",
    "        table = []\n",
    "        for j in range(6):\n",
    "            table.append(list(html_table)[i * 6 + j])\n",
    "        tables.append(table)\n",
    "\n",
    "    # Reconstruct the table\n",
    "    html_table = ''\n",
    "    for table in tables:\n",
    "        html_table += '<table>'\n",
    "        html_table += '<tr>'\n",
    "        for column in table:\n",
    "            html_table += column\n",
    "        html_table += '</tr></table>'\n",
    "    return html_table"
   ]
  },
  {
   "cell_type": "code",
   "execution_count": 4,
   "metadata": {},
   "outputs": [],
   "source": [
    "def SplitTable(table):\n",
    "    \n",
    "    row_list = table.strip().split('<tr>')\n",
    "    table_list = []\n",
    "    header_row = row_list[0]\n",
    "    header_list = header_row.split('<td>')\n",
    "    column_num = len(header_list)\n",
    "    table_num = (column_num-1)//6 + 1\n",
    "    \n",
    "    for i in range(table_num):\n",
    "        table_list.append(header_row)\n",
    "    for row in row_list[1:]:\n",
    "        row_list1 = row.split('<td>')\n",
    "        row_num = len(row_list1)\n",
    "        for j in range(table_num):\n",
    "            if j*6 <= row_num-2:\n",
    "                table_list[j] += row\n",
    "            else:\n",
    "                break\n",
    "    table_str = \"\"\n",
    "    for k in range(table_num):\n",
    "        table_str += \"<table>\\n\"\n",
    "        table_str += table_list[k]\n",
    "        table_str += \"</table>\\n\"\n",
    "    return table_str\n",
    "\n",
    "# print(SplitTable(table))"
   ]
  },
  {
   "cell_type": "code",
   "execution_count": 5,
   "metadata": {},
   "outputs": [],
   "source": [
    "table = '''\n",
    "<table>\n",
    "<tr>\n",
    "<td>语文</td>\n",
    "<td>数学</td>\n",
    "<td>英语</td>\n",
    "<td>道德与法治</td>\n",
    "<td>科学</td>\n",
    "<td>地理</td>\n",
    "<td>历史</td>\n",
    "</tr>\n",
    "<tr>\n",
    "<td>优秀</td>\n",
    "<td>合格</td>\n",
    "<td>优秀</td>\n",
    "<td>优秀</td>\n",
    "<td>良好</td>\n",
    "<td>优秀</td>\n",
    "<td>优秀</td>\n",
    "</tr>\n",
    "</table>'''"
   ]
  },
  {
   "cell_type": "code",
   "execution_count": 6,
   "metadata": {},
   "outputs": [
    {
     "name": "stdout",
     "output_type": "stream",
     "text": [
      "<table>\n",
      "<table>\n",
      "\n",
      "<td>语文</td>\n",
      "<td>数学</td>\n",
      "<td>英语</td>\n",
      "<td>道德与法治</td>\n",
      "<td>科学</td>\n",
      "<td>地理</td>\n",
      "<td>历史</td>\n",
      "</tr>\n",
      "\n",
      "<td>优秀</td>\n",
      "<td>合格</td>\n",
      "<td>优秀</td>\n",
      "<td>优秀</td>\n",
      "<td>良好</td>\n",
      "<td>优秀</td>\n",
      "<td>优秀</td>\n",
      "</tr>\n",
      "</table></table>\n",
      "\n"
     ]
    }
   ],
   "source": [
    "a = SplitTable(table)\n",
    "print(a)"
   ]
  },
  {
   "cell_type": "code",
   "execution_count": 60,
   "metadata": {},
   "outputs": [
    {
     "name": "stdout",
     "output_type": "stream",
     "text": [
      "<table>\n",
      " <tr>\n",
      "  <td style=\"text-align:center\">\n",
      "   语文\n",
      "  </td>\n",
      "  <td style=\"text-align:center\">\n",
      "   数学\n",
      "  </td>\n",
      "  <td style=\"text-align:center\">\n",
      "   英语\n",
      "  </td>\n",
      "  <td style=\"text-align:center\">\n",
      "   道德与法治\n",
      "  </td>\n",
      "  <td style=\"text-align:center\">\n",
      "   科学\n",
      "  </td>\n",
      "  <td style=\"text-align:center\">\n",
      "   地理\n",
      "  </td>\n",
      "  <td style=\"text-align:center\">\n",
      "   历史\n",
      "  </td>\n",
      " </tr>\n",
      " <tr>\n",
      "  <td style=\"text-align:center\">\n",
      "   优秀\n",
      "  </td>\n",
      "  <td style=\"text-align:center\">\n",
      "   合格\n",
      "  </td>\n",
      "  <td style=\"text-align:center\">\n",
      "   优秀\n",
      "  </td>\n",
      "  <td style=\"text-align:center\">\n",
      "   优秀\n",
      "  </td>\n",
      "  <td style=\"text-align:center\">\n",
      "   良好\n",
      "  </td>\n",
      "  <td style=\"text-align:center\">\n",
      "   优秀\n",
      "  </td>\n",
      "  <td style=\"text-align:center\">\n",
      "   优秀\n",
      "  </td>\n",
      " </tr>\n",
      "</table>\n"
     ]
    }
   ],
   "source": [
    "def center_text_in_table(html_table):\n",
    "    soup = BeautifulSoup(html_table, 'html.parser')\n",
    "    td_list = soup.find_all('td')\n",
    "    for td in td_list:\n",
    "        td['style'] = 'text-align:center'\n",
    "    return soup.prettify() \n",
    " \n",
    "print(center_text_in_table('<table> <tr> <td>语文</td> <td>数学</td> <td>英语</td> <td>道德与法治</td> <td>科学</td> <td>地理</td> <td>历史</td> </tr> <tr> <td>优秀</td> <td>合格</td> <td>优秀</td> <td>优秀</td> <td>良好</td> <td>优秀</td> <td>优秀</td> </tr> </table>'))"
   ]
  },
  {
   "cell_type": "code",
   "execution_count": 1,
   "metadata": {},
   "outputs": [
    {
     "name": "stdout",
     "output_type": "stream",
     "text": [
      "<table> <tr> <td style=\"text-align:center\">语文</td> <td style=\"text-align:center\">数学</td> <td style=\"text-align:center\">英语</td> <td style=\"text-align:center\">道德与法治</td> <td style=\"text-align:center\">科学</td> <td style=\"text-align:center\">地理</td> <td style=\"text-align:center\">历史</td> </tr> <tr> <td style=\"text-align:center\">优秀</td> <td style=\"text-align:center\">合格</td> <td style=\"text-align:center\">优秀</td> <td style=\"text-align:center\">优秀</td> <td style=\"text-align:center\">良好</td> <td style=\"text-align:center\">优秀</td> <td style=\"text-align:center\">优秀</td> </tr> </table>\n"
     ]
    }
   ],
   "source": [
    "import re\n",
    "\n",
    "def center_text_in_table_keep_line_breaks(html_table):\n",
    "    pattern = r'<td>(.+?)</td>'\n",
    "    repl = r'<td style=\"text-align:center\">\\1</td>'\n",
    "    new_html_table = re.sub(pattern, repl, html_table, flags=re.DOTALL)\n",
    "    return new_html_table\n",
    "\n",
    "print(center_text_in_table_keep_line_breaks('<table> <tr> <td>语文</td> <td>数学</td> <td>英语</td> <td>道德与法治</td> <td>科学</td> <td>地理</td> <td>历史</td> </tr> <tr> <td>优秀</td> <td>合格</td> <td>优秀</td> <td>优秀</td> <td>良好</td> <td>优秀</td> <td>优秀</td> </tr> </table>'))"
   ]
  },
  {
   "cell_type": "code",
   "execution_count": 59,
   "metadata": {},
   "outputs": [
    {
     "name": "stdout",
     "output_type": "stream",
     "text": [
      "<table>\n",
      " <tr>\n",
      "  <td style=\"font-weight:bold\">\n",
      "   语文\n",
      "  </td>\n",
      "  <td style=\"font-weight:bold\">\n",
      "   数学\n",
      "  </td>\n",
      "  <td style=\"font-weight:bold\">\n",
      "   英语\n",
      "  </td>\n",
      "  <td style=\"font-weight:bold\">\n",
      "   道德与法治\n",
      "  </td>\n",
      "  <td style=\"font-weight:bold\">\n",
      "   科学\n",
      "  </td>\n",
      "  <td style=\"font-weight:bold\">\n",
      "   地理\n",
      "  </td>\n",
      "  <td style=\"font-weight:bold\">\n",
      "   历史\n",
      "  </td>\n",
      " </tr>\n",
      " <tr>\n",
      "  <td>\n",
      "   优秀\n",
      "  </td>\n",
      "  <td>\n",
      "   合格\n",
      "  </td>\n",
      "  <td>\n",
      "   优秀\n",
      "  </td>\n",
      "  <td>\n",
      "   优秀\n",
      "  </td>\n",
      "  <td>\n",
      "   良好\n",
      "  </td>\n",
      "  <td>\n",
      "   优秀\n",
      "  </td>\n",
      "  <td>\n",
      "   优秀\n",
      "  </td>\n",
      " </tr>\n",
      "</table>\n"
     ]
    }
   ],
   "source": [
    "def bold_text_in_first_row(html_table):\n",
    "    soup = BeautifulSoup(html_table, 'html.parser')\n",
    "    first_row_tds = soup.find_all('tr')[0]('td')\n",
    "    for td in first_row_tds:\n",
    "        td['style'] = 'font-weight:bold'\n",
    "    return soup.prettify()\n",
    " \n",
    "print(bold_text_in_first_row('<table> <tr> <td>语文</td> <td>数学</td> <td>英语</td> <td>道德与法治</td> <td>科学</td> <td>地理</td> <td>历史</td> </tr> <tr> <td>优秀</td> <td>合格</td> <td>优秀</td> <td>优秀</td> <td>良好</td> <td>优秀</td> <td>优秀</td> </tr> </table>') )"
   ]
  },
  {
   "cell_type": "code",
   "execution_count": null,
   "metadata": {},
   "outputs": [],
   "source": [
    "import subprocess\n",
    "a = subprocess.run(['cmd', 'npx', '@marp-team/marp-cli@latest', '123.md', '-o', '123.pdf'])\n"
   ]
  }
 ],
 "metadata": {
  "kernelspec": {
   "display_name": "tianpy",
   "language": "python",
   "name": "python3"
  },
  "language_info": {
   "codemirror_mode": {
    "name": "ipython",
    "version": 3
   },
   "file_extension": ".py",
   "mimetype": "text/x-python",
   "name": "python",
   "nbconvert_exporter": "python",
   "pygments_lexer": "ipython3",
   "version": "3.10.8"
  },
  "orig_nbformat": 4,
  "vscode": {
   "interpreter": {
    "hash": "f39e18f3efc1dc78975eaff4987b0855ff112d5426cb6ed421a255da7933488e"
   }
  }
 },
 "nbformat": 4,
 "nbformat_minor": 2
}
